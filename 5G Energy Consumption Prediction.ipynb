{
 "cells": [
  {
   "cell_type": "markdown",
   "id": "4fefde39-5b5e-479a-bdc7-c4719cea1959",
   "metadata": {},
   "source": [
    "# 5G Dataset "
   ]
  },
  {
   "cell_type": "markdown",
   "id": "a5659ffa-7b7f-466b-8e6e-db4a99fe2b9e",
   "metadata": {},
   "source": [
    "##### BS has too many unique values using Target Encoding replaces each category with the mean of the target variable (Energy) for that category. \n",
    "\n",
    "##### This method allows the model to learn patterns related to the base station identifiers without creating a large number of features.\n",
    "\n",
    "\n",
    "# Target Encoding\n",
    "encoder = ce.TargetEncoder(cols=['BS'])\n",
    "df['BS_encoded'] = encoder.fit_transform(df['BS'], df['Energy'])\n"
   ]
  },
  {
   "cell_type": "code",
   "execution_count": 5,
   "id": "601690ae-143e-442a-b72f-115ba64e0738",
   "metadata": {},
   "outputs": [],
   "source": [
    "import numpy as np\n",
    "import matplotlib.pyplot as plt\n",
    "from matplotlib.ticker import NullFormatter\n",
    "import pandas as pd\n",
    "import numpy as np\n",
    "import matplotlib.ticker as ticker\n",
    "from sklearn import preprocessing\n",
    "%matplotlib inline"
   ]
  },
  {
   "cell_type": "markdown",
   "id": "56c984c1-bd60-4b73-91e9-a6afb06c829e",
   "metadata": {},
   "source": [
    "#####\n",
    "\n",
    "Processes \n",
    "- Target variable y = Energy \n",
    "\n",
    "- Spilt X and Y \n",
    "\n",
    "- BS = Target Encoding for BS Column \n",
    "\n"
   ]
  },
  {
   "cell_type": "code",
   "execution_count": 7,
   "id": "e26de770-e006-4d26-bc41-b82b45a40b60",
   "metadata": {},
   "outputs": [
    {
     "data": {
      "text/html": [
       "<div>\n",
       "<style scoped>\n",
       "    .dataframe tbody tr th:only-of-type {\n",
       "        vertical-align: middle;\n",
       "    }\n",
       "\n",
       "    .dataframe tbody tr th {\n",
       "        vertical-align: top;\n",
       "    }\n",
       "\n",
       "    .dataframe thead th {\n",
       "        text-align: right;\n",
       "    }\n",
       "</style>\n",
       "<table border=\"1\" class=\"dataframe\">\n",
       "  <thead>\n",
       "    <tr style=\"text-align: right;\">\n",
       "      <th></th>\n",
       "      <th>Time</th>\n",
       "      <th>BS</th>\n",
       "      <th>Energy</th>\n",
       "      <th>load</th>\n",
       "      <th>ESMODE</th>\n",
       "      <th>TXpower</th>\n",
       "    </tr>\n",
       "  </thead>\n",
       "  <tbody>\n",
       "    <tr>\n",
       "      <th>0</th>\n",
       "      <td>20230101 010000</td>\n",
       "      <td>B_0</td>\n",
       "      <td>64.275037</td>\n",
       "      <td>0.487936</td>\n",
       "      <td>0.0</td>\n",
       "      <td>7.101719</td>\n",
       "    </tr>\n",
       "    <tr>\n",
       "      <th>1</th>\n",
       "      <td>20230101 020000</td>\n",
       "      <td>B_0</td>\n",
       "      <td>55.904335</td>\n",
       "      <td>0.344468</td>\n",
       "      <td>0.0</td>\n",
       "      <td>7.101719</td>\n",
       "    </tr>\n",
       "    <tr>\n",
       "      <th>2</th>\n",
       "      <td>20230101 030000</td>\n",
       "      <td>B_0</td>\n",
       "      <td>57.698057</td>\n",
       "      <td>0.193766</td>\n",
       "      <td>0.0</td>\n",
       "      <td>7.101719</td>\n",
       "    </tr>\n",
       "    <tr>\n",
       "      <th>3</th>\n",
       "      <td>20230101 040000</td>\n",
       "      <td>B_0</td>\n",
       "      <td>55.156951</td>\n",
       "      <td>0.222383</td>\n",
       "      <td>0.0</td>\n",
       "      <td>7.101719</td>\n",
       "    </tr>\n",
       "    <tr>\n",
       "      <th>4</th>\n",
       "      <td>20230101 050000</td>\n",
       "      <td>B_0</td>\n",
       "      <td>56.053812</td>\n",
       "      <td>0.175436</td>\n",
       "      <td>0.0</td>\n",
       "      <td>7.101719</td>\n",
       "    </tr>\n",
       "  </tbody>\n",
       "</table>\n",
       "</div>"
      ],
      "text/plain": [
       "              Time   BS     Energy      load  ESMODE   TXpower\n",
       "0  20230101 010000  B_0  64.275037  0.487936     0.0  7.101719\n",
       "1  20230101 020000  B_0  55.904335  0.344468     0.0  7.101719\n",
       "2  20230101 030000  B_0  57.698057  0.193766     0.0  7.101719\n",
       "3  20230101 040000  B_0  55.156951  0.222383     0.0  7.101719\n",
       "4  20230101 050000  B_0  56.053812  0.175436     0.0  7.101719"
      ]
     },
     "execution_count": 7,
     "metadata": {},
     "output_type": "execute_result"
    }
   ],
   "source": [
    "df = pd.read_csv('5G_energy_consumption_dataset.csv')\n",
    "df.head()"
   ]
  },
  {
   "cell_type": "code",
   "execution_count": 71,
   "id": "dd19c935-c2d6-441e-81b8-d33113ff9f2a",
   "metadata": {},
   "outputs": [
    {
     "data": {
      "text/plain": [
       "ESMODE  \n",
       "0.000000    87475\n",
       "2.000000     1299\n",
       "1.999722      226\n",
       "0.002500      134\n",
       "0.000556      122\n",
       "            ...  \n",
       "0.000456        1\n",
       "1.992778        1\n",
       "1.993611        1\n",
       "0.000394        1\n",
       "0.000300        1\n",
       "Name: count, Length: 1713, dtype: int64"
      ]
     },
     "execution_count": 71,
     "metadata": {},
     "output_type": "execute_result"
    }
   ],
   "source": [
    "df[['ESMODE']].value_counts()"
   ]
  },
  {
   "cell_type": "code",
   "execution_count": 11,
   "id": "49503dd3-f5c7-4be4-be48-b3bf0eab4211",
   "metadata": {},
   "outputs": [
    {
     "data": {
      "text/html": [
       "<div>\n",
       "<style scoped>\n",
       "    .dataframe tbody tr th:only-of-type {\n",
       "        vertical-align: middle;\n",
       "    }\n",
       "\n",
       "    .dataframe tbody tr th {\n",
       "        vertical-align: top;\n",
       "    }\n",
       "\n",
       "    .dataframe thead th {\n",
       "        text-align: right;\n",
       "    }\n",
       "</style>\n",
       "<table border=\"1\" class=\"dataframe\">\n",
       "  <thead>\n",
       "    <tr style=\"text-align: right;\">\n",
       "      <th></th>\n",
       "      <th>Time</th>\n",
       "      <th>BS</th>\n",
       "      <th>Energy</th>\n",
       "      <th>load</th>\n",
       "      <th>ESMODE</th>\n",
       "      <th>TXpower</th>\n",
       "    </tr>\n",
       "  </thead>\n",
       "  <tbody>\n",
       "    <tr>\n",
       "      <th>count</th>\n",
       "      <td>92629</td>\n",
       "      <td>92629</td>\n",
       "      <td>92629.000000</td>\n",
       "      <td>92629.000000</td>\n",
       "      <td>92629.000000</td>\n",
       "      <td>92629.000000</td>\n",
       "    </tr>\n",
       "    <tr>\n",
       "      <th>unique</th>\n",
       "      <td>168</td>\n",
       "      <td>923</td>\n",
       "      <td>NaN</td>\n",
       "      <td>NaN</td>\n",
       "      <td>NaN</td>\n",
       "      <td>NaN</td>\n",
       "    </tr>\n",
       "    <tr>\n",
       "      <th>top</th>\n",
       "      <td>20230102 230000</td>\n",
       "      <td>B_583</td>\n",
       "      <td>NaN</td>\n",
       "      <td>NaN</td>\n",
       "      <td>NaN</td>\n",
       "      <td>NaN</td>\n",
       "    </tr>\n",
       "    <tr>\n",
       "      <th>freq</th>\n",
       "      <td>766</td>\n",
       "      <td>130</td>\n",
       "      <td>NaN</td>\n",
       "      <td>NaN</td>\n",
       "      <td>NaN</td>\n",
       "      <td>NaN</td>\n",
       "    </tr>\n",
       "    <tr>\n",
       "      <th>mean</th>\n",
       "      <td>NaN</td>\n",
       "      <td>NaN</td>\n",
       "      <td>28.138997</td>\n",
       "      <td>0.244705</td>\n",
       "      <td>0.081361</td>\n",
       "      <td>6.765427</td>\n",
       "    </tr>\n",
       "    <tr>\n",
       "      <th>std</th>\n",
       "      <td>NaN</td>\n",
       "      <td>NaN</td>\n",
       "      <td>13.934645</td>\n",
       "      <td>0.234677</td>\n",
       "      <td>0.382317</td>\n",
       "      <td>0.309929</td>\n",
       "    </tr>\n",
       "    <tr>\n",
       "      <th>min</th>\n",
       "      <td>NaN</td>\n",
       "      <td>NaN</td>\n",
       "      <td>0.747384</td>\n",
       "      <td>0.000000</td>\n",
       "      <td>0.000000</td>\n",
       "      <td>5.381166</td>\n",
       "    </tr>\n",
       "    <tr>\n",
       "      <th>25%</th>\n",
       "      <td>NaN</td>\n",
       "      <td>NaN</td>\n",
       "      <td>18.236173</td>\n",
       "      <td>0.057370</td>\n",
       "      <td>0.000000</td>\n",
       "      <td>6.427504</td>\n",
       "    </tr>\n",
       "    <tr>\n",
       "      <th>50%</th>\n",
       "      <td>NaN</td>\n",
       "      <td>NaN</td>\n",
       "      <td>24.065770</td>\n",
       "      <td>0.165550</td>\n",
       "      <td>0.000000</td>\n",
       "      <td>6.875934</td>\n",
       "    </tr>\n",
       "    <tr>\n",
       "      <th>75%</th>\n",
       "      <td>NaN</td>\n",
       "      <td>NaN</td>\n",
       "      <td>35.724963</td>\n",
       "      <td>0.363766</td>\n",
       "      <td>0.000000</td>\n",
       "      <td>6.875934</td>\n",
       "    </tr>\n",
       "    <tr>\n",
       "      <th>max</th>\n",
       "      <td>NaN</td>\n",
       "      <td>NaN</td>\n",
       "      <td>100.000000</td>\n",
       "      <td>0.993957</td>\n",
       "      <td>4.000000</td>\n",
       "      <td>8.375336</td>\n",
       "    </tr>\n",
       "  </tbody>\n",
       "</table>\n",
       "</div>"
      ],
      "text/plain": [
       "                   Time     BS        Energy          load        ESMODE  \\\n",
       "count             92629  92629  92629.000000  92629.000000  92629.000000   \n",
       "unique              168    923           NaN           NaN           NaN   \n",
       "top     20230102 230000  B_583           NaN           NaN           NaN   \n",
       "freq                766    130           NaN           NaN           NaN   \n",
       "mean                NaN    NaN     28.138997      0.244705      0.081361   \n",
       "std                 NaN    NaN     13.934645      0.234677      0.382317   \n",
       "min                 NaN    NaN      0.747384      0.000000      0.000000   \n",
       "25%                 NaN    NaN     18.236173      0.057370      0.000000   \n",
       "50%                 NaN    NaN     24.065770      0.165550      0.000000   \n",
       "75%                 NaN    NaN     35.724963      0.363766      0.000000   \n",
       "max                 NaN    NaN    100.000000      0.993957      4.000000   \n",
       "\n",
       "             TXpower  \n",
       "count   92629.000000  \n",
       "unique           NaN  \n",
       "top              NaN  \n",
       "freq             NaN  \n",
       "mean        6.765427  \n",
       "std         0.309929  \n",
       "min         5.381166  \n",
       "25%         6.427504  \n",
       "50%         6.875934  \n",
       "75%         6.875934  \n",
       "max         8.375336  "
      ]
     },
     "execution_count": 11,
     "metadata": {},
     "output_type": "execute_result"
    }
   ],
   "source": [
    "df.describe(include = \"all\")"
   ]
  },
  {
   "cell_type": "code",
   "execution_count": 13,
   "id": "e99c531b-e9cd-468c-aac3-7a55370da219",
   "metadata": {},
   "outputs": [
    {
     "name": "stdout",
     "output_type": "stream",
     "text": [
      "<class 'pandas.core.frame.DataFrame'>\n",
      "RangeIndex: 92629 entries, 0 to 92628\n",
      "Data columns (total 6 columns):\n",
      " #   Column   Non-Null Count  Dtype  \n",
      "---  ------   --------------  -----  \n",
      " 0   Time     92629 non-null  object \n",
      " 1   BS       92629 non-null  object \n",
      " 2   Energy   92629 non-null  float64\n",
      " 3   load     92629 non-null  float64\n",
      " 4   ESMODE   92629 non-null  float64\n",
      " 5   TXpower  92629 non-null  float64\n",
      "dtypes: float64(4), object(2)\n",
      "memory usage: 4.2+ MB\n"
     ]
    }
   ],
   "source": [
    "df.info()"
   ]
  },
  {
   "cell_type": "code",
   "execution_count": 15,
   "id": "44b2037f-f636-4ec6-ac2f-69b090d6bea9",
   "metadata": {},
   "outputs": [],
   "source": [
    "df = df.drop(\"Time\", axis=1)"
   ]
  },
  {
   "cell_type": "code",
   "execution_count": 17,
   "id": "cadfcd85-10a9-4384-a726-0c26d9456b03",
   "metadata": {},
   "outputs": [
    {
     "name": "stdout",
     "output_type": "stream",
     "text": [
      "    BS     Energy      load  ESMODE   TXpower\n",
      "0  B_0  64.275037  0.487936     0.0  7.101719\n",
      "1  B_0  55.904335  0.344468     0.0  7.101719\n",
      "2  B_0  57.698057  0.193766     0.0  7.101719\n",
      "3  B_0  55.156951  0.222383     0.0  7.101719\n",
      "4  B_0  56.053812  0.175436     0.0  7.101719\n"
     ]
    }
   ],
   "source": [
    "print(df.head())"
   ]
  },
  {
   "cell_type": "code",
   "execution_count": 36,
   "id": "3905f2d2-c479-4421-a6e9-56167d63170a",
   "metadata": {},
   "outputs": [
    {
     "name": "stdout",
     "output_type": "stream",
     "text": [
      "Collecting category-encoders\n",
      "  Downloading category_encoders-2.6.4-py2.py3-none-any.whl.metadata (8.0 kB)\n",
      "Requirement already satisfied: numpy>=1.14.0 in /opt/anaconda3/lib/python3.12/site-packages (from category-encoders) (1.26.4)\n",
      "Requirement already satisfied: scikit-learn>=0.20.0 in /opt/anaconda3/lib/python3.12/site-packages (from category-encoders) (1.4.2)\n",
      "Requirement already satisfied: scipy>=1.0.0 in /opt/anaconda3/lib/python3.12/site-packages (from category-encoders) (1.13.1)\n",
      "Requirement already satisfied: statsmodels>=0.9.0 in /opt/anaconda3/lib/python3.12/site-packages (from category-encoders) (0.14.2)\n",
      "Requirement already satisfied: pandas>=1.0.5 in /opt/anaconda3/lib/python3.12/site-packages (from category-encoders) (2.2.2)\n",
      "Requirement already satisfied: patsy>=0.5.1 in /opt/anaconda3/lib/python3.12/site-packages (from category-encoders) (0.5.6)\n",
      "Requirement already satisfied: python-dateutil>=2.8.2 in /opt/anaconda3/lib/python3.12/site-packages (from pandas>=1.0.5->category-encoders) (2.9.0.post0)\n",
      "Requirement already satisfied: pytz>=2020.1 in /opt/anaconda3/lib/python3.12/site-packages (from pandas>=1.0.5->category-encoders) (2024.1)\n",
      "Requirement already satisfied: tzdata>=2022.7 in /opt/anaconda3/lib/python3.12/site-packages (from pandas>=1.0.5->category-encoders) (2023.3)\n",
      "Requirement already satisfied: six in /opt/anaconda3/lib/python3.12/site-packages (from patsy>=0.5.1->category-encoders) (1.16.0)\n",
      "Requirement already satisfied: joblib>=1.2.0 in /opt/anaconda3/lib/python3.12/site-packages (from scikit-learn>=0.20.0->category-encoders) (1.4.2)\n",
      "Requirement already satisfied: threadpoolctl>=2.0.0 in /opt/anaconda3/lib/python3.12/site-packages (from scikit-learn>=0.20.0->category-encoders) (2.2.0)\n",
      "Requirement already satisfied: packaging>=21.3 in /opt/anaconda3/lib/python3.12/site-packages (from statsmodels>=0.9.0->category-encoders) (23.2)\n",
      "Downloading category_encoders-2.6.4-py2.py3-none-any.whl (82 kB)\n",
      "\u001b[2K   \u001b[90m━━━━━━━━━━━━━━━━━━━━━━━━━━━━━━━━━━━━━━━━\u001b[0m \u001b[32m82.0/82.0 kB\u001b[0m \u001b[31m285.6 kB/s\u001b[0m eta \u001b[36m0:00:00\u001b[0ma \u001b[36m0:00:01\u001b[0m\n",
      "\u001b[?25hInstalling collected packages: category-encoders\n",
      "Successfully installed category-encoders-2.6.4\n",
      "Note: you may need to restart the kernel to use updated packages.\n"
     ]
    }
   ],
   "source": [
    "pip install category-encoders"
   ]
  },
  {
   "cell_type": "code",
   "execution_count": 19,
   "id": "46000e02-e152-4359-8f6e-93fda3376993",
   "metadata": {},
   "outputs": [],
   "source": [
    "import category_encoders as ce"
   ]
  },
  {
   "cell_type": "code",
   "execution_count": 25,
   "id": "8e381825-5683-4d26-8626-9fc3129f058e",
   "metadata": {},
   "outputs": [],
   "source": [
    "# Target Encoding\n",
    "encoder = ce.TargetEncoder(cols=['BS'])\n",
    "df['BS_encoded'] = encoder.fit_transform(df['BS'], df['Energy'])"
   ]
  },
  {
   "cell_type": "code",
   "execution_count": 23,
   "id": "9c686bba-1c2c-46fe-a4a4-1a51d888eaf8",
   "metadata": {},
   "outputs": [
    {
     "name": "stdout",
     "output_type": "stream",
     "text": [
      "    BS     Energy      load  ESMODE   TXpower  BS_encoded\n",
      "0  B_0  64.275037  0.487936     0.0  7.101719   73.087415\n",
      "1  B_0  55.904335  0.344468     0.0  7.101719   73.087415\n",
      "2  B_0  57.698057  0.193766     0.0  7.101719   73.087415\n",
      "3  B_0  55.156951  0.222383     0.0  7.101719   73.087415\n",
      "4  B_0  56.053812  0.175436     0.0  7.101719   73.087415\n"
     ]
    }
   ],
   "source": [
    "print(df.head())"
   ]
  },
  {
   "cell_type": "markdown",
   "id": "53ea9336-9be2-4d00-a2cf-6fd5ca2d3e91",
   "metadata": {},
   "source": [
    "### Separate features and target variable"
   ]
  },
  {
   "cell_type": "code",
   "execution_count": 95,
   "id": "29283e3a-c773-46b8-b98d-88376c54db04",
   "metadata": {},
   "outputs": [],
   "source": [
    "## Feature Selections\n",
    "\n",
    "X = df[['load', 'TXpower', 'BS_encoded', 'ESMODE']]\n",
    "y = df['Energy']"
   ]
  },
  {
   "cell_type": "markdown",
   "id": "7108911f-2805-4b71-a239-f70d83040624",
   "metadata": {},
   "source": [
    "### Normalize the Data "
   ]
  },
  {
   "cell_type": "code",
   "execution_count": 75,
   "id": "91461737-bd85-4688-b7e4-01a8f92f4a17",
   "metadata": {},
   "outputs": [],
   "source": [
    "from sklearn.preprocessing import StandardScaler"
   ]
  },
  {
   "cell_type": "code",
   "execution_count": 97,
   "id": "a33778f5-547f-417d-9c52-669047681a96",
   "metadata": {},
   "outputs": [
    {
     "data": {
      "text/plain": [
       "array([[ 1.036457  ,  1.0850681 ,  3.51104077, -0.2128106 ],\n",
       "       [ 0.42511173,  1.0850681 ,  3.51104077, -0.2128106 ],\n",
       "       [-0.2170592 ,  1.0850681 ,  3.51104077, -0.2128106 ],\n",
       "       [-0.09511653,  1.0850681 ,  3.51104077, -0.2128106 ],\n",
       "       [-0.29516597,  1.0850681 ,  3.51104077, -0.2128106 ]])"
      ]
     },
     "execution_count": 97,
     "metadata": {},
     "output_type": "execute_result"
    }
   ],
   "source": [
    "X= preprocessing.StandardScaler().fit(X).transform(X)\n",
    "X[0:5]"
   ]
  },
  {
   "cell_type": "code",
   "execution_count": null,
   "id": "0327e752-93e4-4f46-a514-4fd7af61c5a0",
   "metadata": {},
   "outputs": [],
   "source": []
  },
  {
   "cell_type": "markdown",
   "id": "fc828f8c-5011-427c-8c17-3e10d852f734",
   "metadata": {},
   "source": [
    "### Split the Model into Training and Testing sets"
   ]
  },
  {
   "cell_type": "code",
   "execution_count": 79,
   "id": "3fc39569-743e-4c1b-bfa1-a4860ec9f5f4",
   "metadata": {},
   "outputs": [],
   "source": [
    "from sklearn.model_selection import train_test_split  # To split the dataset into training and testing sets"
   ]
  },
  {
   "cell_type": "code",
   "execution_count": 101,
   "id": "393c9b01-8e2d-45f2-9b19-dbc767d78dd1",
   "metadata": {},
   "outputs": [],
   "source": [
    "X_train, X_test, y_train, y_test = train_test_split(X, y, test_size=0.2, random_state=42)"
   ]
  },
  {
   "cell_type": "code",
   "execution_count": 103,
   "id": "9dfc7148-777d-4c66-abf1-26ba02619757",
   "metadata": {},
   "outputs": [
    {
     "data": {
      "text/plain": [
       "array([[ 0.26221446,  0.35655964, -0.6117205 , -0.2128106 ],\n",
       "       [ 0.12120704,  1.08241547,  1.18158068, -0.2128106 ],\n",
       "       [-0.52474275, -1.09032905, -0.94136846, -0.2128106 ],\n",
       "       ...,\n",
       "       [ 0.79665335,  0.35655964, -0.54313128, -0.2128106 ],\n",
       "       [-0.86108873,  1.08241547,  0.16639325, -0.2128106 ],\n",
       "       [-0.33158285,  0.35655964, -0.34691553, -0.2128106 ]])"
      ]
     },
     "execution_count": 103,
     "metadata": {},
     "output_type": "execute_result"
    }
   ],
   "source": [
    "X_train"
   ]
  },
  {
   "cell_type": "code",
   "execution_count": 105,
   "id": "c02ce0a8-8d96-4f2c-bdd6-2c937de3cdb5",
   "metadata": {},
   "outputs": [
    {
     "data": {
      "text/plain": [
       "array([[ 0.54467915,  1.08241547,  1.39581727, -0.2128106 ],\n",
       "       [-0.98461075,  0.35655964, -0.27649677,  4.7184008 ],\n",
       "       [-0.70601392, -1.09032905, -1.13324505, -0.2128106 ],\n",
       "       ...,\n",
       "       [ 1.9524776 ,  0.35655964,  1.06916157, -0.2128106 ],\n",
       "       [ 0.6815159 ,  0.35655964, -0.49779199, -0.2128106 ],\n",
       "       [-0.95512329,  1.08241547,  1.03758703, -0.2128106 ]])"
      ]
     },
     "execution_count": 105,
     "metadata": {},
     "output_type": "execute_result"
    }
   ],
   "source": [
    "X_test"
   ]
  },
  {
   "cell_type": "code",
   "execution_count": 107,
   "id": "5ebb8acb-34e7-4aaa-a5d3-cfe356f4298d",
   "metadata": {},
   "outputs": [
    {
     "data": {
      "text/plain": [
       "42091    13.751868\n",
       "27803    44.394619\n",
       "40368    15.994021\n",
       "9254     25.859492\n",
       "76007    42.002990\n",
       "           ...    \n",
       "6265     41.405082\n",
       "54886    51.420030\n",
       "76820    26.158445\n",
       "860      30.642750\n",
       "15795    21.524664\n",
       "Name: Energy, Length: 74103, dtype: float64"
      ]
     },
     "execution_count": 107,
     "metadata": {},
     "output_type": "execute_result"
    }
   ],
   "source": [
    "y_train"
   ]
  },
  {
   "cell_type": "code",
   "execution_count": 109,
   "id": "a497a28b-2ee7-4e79-8fd7-2ee493c80435",
   "metadata": {
    "scrolled": true
   },
   "outputs": [
    {
     "data": {
      "text/plain": [
       "65601    44.843049\n",
       "2220     20.478326\n",
       "54370    13.751868\n",
       "80338    57.997010\n",
       "32751    37.967115\n",
       "           ...    \n",
       "22459    35.426009\n",
       "14808    21.375187\n",
       "36465    40.956652\n",
       "34944    24.813154\n",
       "69268    30.493274\n",
       "Name: Energy, Length: 18526, dtype: float64"
      ]
     },
     "execution_count": 109,
     "metadata": {},
     "output_type": "execute_result"
    }
   ],
   "source": [
    "y_test"
   ]
  },
  {
   "cell_type": "code",
   "execution_count": 119,
   "id": "d7e0034a-8e61-4deb-827c-090bf253103d",
   "metadata": {},
   "outputs": [
    {
     "name": "stdout",
     "output_type": "stream",
     "text": [
      "Collecting XGBoost\n",
      "  Downloading xgboost-2.1.1-py3-none-macosx_10_15_x86_64.macosx_11_0_x86_64.macosx_12_0_x86_64.whl.metadata (2.1 kB)\n",
      "Requirement already satisfied: numpy in /opt/anaconda3/lib/python3.12/site-packages (from XGBoost) (1.26.4)\n",
      "Requirement already satisfied: scipy in /opt/anaconda3/lib/python3.12/site-packages (from XGBoost) (1.13.1)\n",
      "Downloading xgboost-2.1.1-py3-none-macosx_10_15_x86_64.macosx_11_0_x86_64.macosx_12_0_x86_64.whl (2.1 MB)\n",
      "\u001b[2K   \u001b[90m━━━━━━━━━━━━━━━━━━━━━━━━━━━━━━━━━━━━━━━━\u001b[0m \u001b[32m2.1/2.1 MB\u001b[0m \u001b[31m22.5 kB/s\u001b[0m eta \u001b[36m0:00:00\u001b[0m00:01\u001b[0m00:04\u001b[0mm\n",
      "\u001b[?25hInstalling collected packages: XGBoost\n",
      "Successfully installed XGBoost-2.1.1\n",
      "Note: you may need to restart the kernel to use updated packages.\n"
     ]
    }
   ],
   "source": [
    "pip install XGBoost"
   ]
  },
  {
   "cell_type": "markdown",
   "id": "254d13dd-11ac-4bc8-a4a8-352541fa5e85",
   "metadata": {},
   "source": [
    "## Modelling "
   ]
  },
  {
   "cell_type": "markdown",
   "id": "f9fbaaf5-d663-473b-a1b8-70cf9ce9cc73",
   "metadata": {},
   "source": [
    "## 1. Linear Regression "
   ]
  },
  {
   "cell_type": "code",
   "execution_count": 111,
   "id": "290ae4ca-998d-4b6f-808f-3fd429a2f42b",
   "metadata": {},
   "outputs": [],
   "source": [
    "from sklearn.linear_model import LinearRegression\n",
    "from sklearn.metrics import mean_squared_error, r2_score\n",
    "import numpy as np\n",
    "\n",
    "# Initialize the model\n",
    "linear_reg = LinearRegression()\n",
    "\n",
    "# Fit the model to the training data\n",
    "linear_reg.fit(X_train, y_train)\n",
    "\n",
    "# Predict on the test data\n",
    "y_pred_linear = linear_reg.predict(X_test)\n"
   ]
  },
  {
   "cell_type": "code",
   "execution_count": 113,
   "id": "d21f995b-11a5-4558-b81c-d0e1044d0b20",
   "metadata": {},
   "outputs": [
    {
     "name": "stdout",
     "output_type": "stream",
     "text": [
      "Linear Regression:\n",
      " RMSE: 4.1687\n",
      " R²: 0.9084\n",
      "\n"
     ]
    }
   ],
   "source": [
    "# Evaluate the model\n",
    "rmse_linear = np.sqrt(mean_squared_error(y_test, y_pred_linear))\n",
    "r2_linear = r2_score(y_test, y_pred_linear)\n",
    "\n",
    "print(f\"Linear Regression:\\n RMSE: {rmse_linear:.4f}\\n R²: {r2_linear:.4f}\\n\")"
   ]
  },
  {
   "cell_type": "markdown",
   "id": "865d510e-dc82-4919-9554-49d24277aaaa",
   "metadata": {},
   "source": [
    "## 2. Ridge Regression"
   ]
  },
  {
   "cell_type": "code",
   "execution_count": 117,
   "id": "f1a720cb-5f75-44d3-adcc-c5f47236dcf3",
   "metadata": {},
   "outputs": [
    {
     "name": "stdout",
     "output_type": "stream",
     "text": [
      "Ridge Regression:\n",
      " RMSE: 4.1687\n",
      " R²: 0.9084\n",
      "\n"
     ]
    }
   ],
   "source": [
    "from sklearn.linear_model import Ridge\n",
    "\n",
    "# Initialize the model\n",
    "ridge_reg = Ridge(alpha=1.0)\n",
    "\n",
    "# Fit the model to the training data\n",
    "ridge_reg.fit(X_train, y_train)\n",
    "\n",
    "# Predict on the test data\n",
    "y_pred_ridge = ridge_reg.predict(X_test)\n",
    "\n",
    "# Evaluate the model\n",
    "rmse_ridge = np.sqrt(mean_squared_error(y_test, y_pred_ridge))\n",
    "r2_ridge = r2_score(y_test, y_pred_ridge)\n",
    "\n",
    "print(f\"Ridge Regression:\\n RMSE: {rmse_ridge:.4f}\\n R²: {r2_ridge:.4f}\\n\")"
   ]
  },
  {
   "cell_type": "markdown",
   "id": "cc3236e1-2174-405e-b2f5-7df590a45ddb",
   "metadata": {},
   "source": [
    "## 3. Support Vector Regression (SVR)"
   ]
  },
  {
   "cell_type": "code",
   "execution_count": 121,
   "id": "428ad538-8796-488c-916c-20cbb6f4e700",
   "metadata": {},
   "outputs": [
    {
     "name": "stdout",
     "output_type": "stream",
     "text": [
      "Support Vector Regression:\n",
      " RMSE: 4.2167\n",
      " R²: 0.9063\n",
      "\n"
     ]
    }
   ],
   "source": [
    "from sklearn.svm import SVR\n",
    "\n",
    "# Initialize the model\n",
    "svr_reg = SVR(kernel='linear')\n",
    "\n",
    "# Fit the model to the training data\n",
    "svr_reg.fit(X_train, y_train)\n",
    "\n",
    "# Predict on the test data\n",
    "y_pred_svr = svr_reg.predict(X_test)\n",
    "\n",
    "# Evaluate the model\n",
    "rmse_svr = np.sqrt(mean_squared_error(y_test, y_pred_svr))\n",
    "r2_svr = r2_score(y_test, y_pred_svr)\n",
    "\n",
    "print(f\"Support Vector Regression:\\n RMSE: {rmse_svr:.4f}\\n R²: {r2_svr:.4f}\\n\")"
   ]
  },
  {
   "cell_type": "markdown",
   "id": "d34cdf65-c383-493b-b45a-3f6bc2e4794e",
   "metadata": {},
   "source": [
    "## 4. Gradient Boosting Regressor"
   ]
  },
  {
   "cell_type": "code",
   "execution_count": 123,
   "id": "59d54783-14a0-4374-95a7-8a52a0714e1b",
   "metadata": {},
   "outputs": [
    {
     "name": "stdout",
     "output_type": "stream",
     "text": [
      "Gradient Boosting Regressor:\n",
      " RMSE: 3.5302\n",
      " R²: 0.9343\n",
      "\n"
     ]
    }
   ],
   "source": [
    "from sklearn.ensemble import GradientBoostingRegressor\n",
    "\n",
    "# Initialize the model\n",
    "gb_reg = GradientBoostingRegressor()\n",
    "\n",
    "# Fit the model to the training data\n",
    "gb_reg.fit(X_train, y_train)\n",
    "\n",
    "# Predict on the test data\n",
    "y_pred_gb = gb_reg.predict(X_test)\n",
    "\n",
    "# Evaluate the model\n",
    "rmse_gb = np.sqrt(mean_squared_error(y_test, y_pred_gb))\n",
    "r2_gb = r2_score(y_test, y_pred_gb)\n",
    "\n",
    "print(f\"Gradient Boosting Regressor:\\n RMSE: {rmse_gb:.4f}\\n R²: {r2_gb:.4f}\\n\")"
   ]
  },
  {
   "cell_type": "code",
   "execution_count": null,
   "id": "a248996a-a5ed-40c5-b386-d85a73b3cfaa",
   "metadata": {},
   "outputs": [],
   "source": []
  },
  {
   "cell_type": "code",
   "execution_count": null,
   "id": "cfceffd9-3e4a-4287-96d4-bb06d7f3505a",
   "metadata": {},
   "outputs": [],
   "source": []
  }
 ],
 "metadata": {
  "kernelspec": {
   "display_name": "Python 3 (ipykernel)",
   "language": "python",
   "name": "python3"
  },
  "language_info": {
   "codemirror_mode": {
    "name": "ipython",
    "version": 3
   },
   "file_extension": ".py",
   "mimetype": "text/x-python",
   "name": "python",
   "nbconvert_exporter": "python",
   "pygments_lexer": "ipython3",
   "version": "3.12.4"
  }
 },
 "nbformat": 4,
 "nbformat_minor": 5
}
